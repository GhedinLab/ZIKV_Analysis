{
 "cells": [
  {
   "cell_type": "markdown",
   "metadata": {},
   "source": [
    "This small script is preparing the Zika.DVG files to be merged into files used for input to the DVG script.\n",
    "\n",
    "This takes the input of running the vardvg sh script on the subsampled bam files "
   ]
  },
  {
   "cell_type": "code",
   "execution_count": 77,
   "metadata": {},
   "outputs": [],
   "source": [
    "require('plyr')\n",
    "library('ggplot2')\n",
    "library('tidyverse')\n",
    "library('reshape2')\n",
    "library('grid')\n",
    "require('gridExtra')\n",
    "library('plotly')\n",
    "library('glue')"
   ]
  },
  {
   "cell_type": "code",
   "execution_count": 78,
   "metadata": {},
   "outputs": [],
   "source": [
    "wkdir='/home/kate/Lab/zika_files/ReAlignment/SubVariants/SubDVG_PCR/AllSub/'\n",
    "setwd(wkdir)"
   ]
  },
  {
   "cell_type": "code",
   "execution_count": 79,
   "metadata": {},
   "outputs": [],
   "source": [
    "# make a directory to save new files \n",
    "if (!dir.exists(glue(\"{wkdir}RenamedSubDVGFiles\"))) {\n",
    "      dir.create(glue(\"{wkdir}RenamedSubDVGFiles\"))\n",
    "    }"
   ]
  },
  {
   "cell_type": "code",
   "execution_count": 80,
   "metadata": {},
   "outputs": [],
   "source": [
    "# input: split read data frame and frequency of subsampling\n",
    "# output: split read dataframe but with frequency after pcr information and additional name info removed to run through di findder script\n",
    "SubFreq = function(df, freq){\n",
    "    \n",
    "    df$name = gsub(glue(\".zika.rmd.star.{freq}.sorted.bam.{freq}.split.txt\"),glue(\"_{freq}\"), df$name)\n",
    "    \n",
    "    return(df)\n",
    "}\n",
    "\n"
   ]
  },
  {
   "cell_type": "code",
   "execution_count": 81,
   "metadata": {},
   "outputs": [],
   "source": [
    "# write the altered split read file to csv output\n",
    "# input dataframe, freq of subsampling, and save directory - where to save csv file \n",
    "# output csv file in save directory\n",
    "\n",
    "WriteSplit = function(df, freq, savedir){\n",
    "\n",
    "    write.csv(df, \n",
    "             file = glue(\"{savedir}/{freq}.Renamed.SplitReads.csv\"),\n",
    "             row.names = FALSE)\n",
    "    \n",
    "}\n",
    "\n"
   ]
  },
  {
   "cell_type": "code",
   "execution_count": 82,
   "metadata": {},
   "outputs": [],
   "source": [
    "# write update features file to csv file\n",
    "# input: dataframe, freq of subsampling, and savedirectory\n",
    "# output: csv file with updated information \n",
    "\n",
    "WriteFeatures = function(df, freq, savedir) {\n",
    "    \n",
    "    # writing to table allows you to ignore column names \n",
    "    \n",
    "    write.table(df, \n",
    "         file = glue(\"{savedir}/{freq}.Renamed.FeaturesCounts.csv\"),\n",
    "         row.names = FALSE,\n",
    "         col.names = FALSE,\n",
    "                sep = ',')\n",
    "    \n",
    "}\n",
    "\n"
   ]
  },
  {
   "cell_type": "code",
   "execution_count": 83,
   "metadata": {},
   "outputs": [],
   "source": [
    "FeatRename = function(df, freq){ \n",
    "    df = df %>% \n",
    "      mutate_all(funs(str_replace(., \"pcr1\", glue(\"pcr1_{freq}\"))))\n",
    "    \n",
    "    df = df %>% \n",
    "      mutate_all(funs(str_replace(., \"pcr2\", glue(\"pcr2_{freq}\"))))\n",
    "    \n",
    "    df = df %>% \n",
    "      mutate_all(funs(str_replace(., \"pcr3\", glue(\"pcr3_{freq}\"))))\n",
    "    return(df)\n",
    "}\n"
   ]
  },
  {
   "cell_type": "code",
   "execution_count": 84,
   "metadata": {},
   "outputs": [],
   "source": [
    "#SplitReads first: \n",
    "# filenames\n",
    "s1 = glue('{wkdir}1.SplitReads.csv')\n",
    "s75 = glue('{wkdir}0.75.SplitReads.csv')\n",
    "s50 = glue('{wkdir}0.50.SplitReads.csv')\n",
    "s25 = glue('{wkdir}0.25.SplitReads.csv')\n",
    "s10 = glue('{wkdir}0.10.SplitReads.csv')\n",
    "s05 = glue('{wkdir}0.05.SplitReads.csv')\n",
    "\n",
    "# read as csv files\n",
    "sub1 = read.csv(file=s1,header=T,sep=\",\",na.strings = c('nan'))\n",
    "sub75 = read.csv(file=s75,header=T,sep=\",\",na.strings = c('nan'))\n",
    "sub50 = read.csv(file=s50,header=T,sep=\",\",na.strings = c('nan'))\n",
    "sub25 = read.csv(file=s25,header=T,sep=\",\",na.strings = c('nan'))\n",
    "sub10 = read.csv(file=s10,header=T,sep=\",\",na.strings = c('nan'))\n",
    "sub05 = read.csv(file=s05,header=T,sep=\",\",na.strings = c('nan'))"
   ]
  },
  {
   "cell_type": "code",
   "execution_count": 85,
   "metadata": {},
   "outputs": [],
   "source": [
    "# rename split read files and save\n",
    "x1 = SubFreq(sub1, \"1\")\n",
    "WriteSplit(x1, \"1\", glue(\"{wkdir}RenamedSubDVGFiles\"))\n",
    "\n",
    "x75 = SubFreq(sub75, \"0.75\")\n",
    "WriteSplit(x75, \"0.75\", glue(\"{wkdir}RenamedSubDVGFiles\"))\n",
    "\n",
    "x50 = SubFreq(sub50, \"0.50\")\n",
    "WriteSplit(x50, \"0.50\", glue(\"{wkdir}RenamedSubDVGFiles\"))\n",
    "\n",
    "x25 = SubFreq(sub25, \"0.25\")\n",
    "WriteSplit(x25, \"0.25\", glue(\"{wkdir}RenamedSubDVGFiles\"))\n",
    "\n",
    "x10 = SubFreq(sub10, \"0.10\")\n",
    "WriteSplit(x10, \"0.10\", glue(\"{wkdir}RenamedSubDVGFiles\"))\n",
    "\n",
    "x05 = SubFreq(sub05, \"0.05\")\n",
    "WriteSplit(x05, \"0.05\", glue(\"{wkdir}RenamedSubDVGFiles\"))\n"
   ]
  },
  {
   "cell_type": "code",
   "execution_count": 86,
   "metadata": {},
   "outputs": [
    {
     "name": "stdout",
     "output_type": "stream",
     "text": [
      "[1] 377561\n"
     ]
    }
   ],
   "source": [
    "numbrows = nrow(x1) + nrow(x75) + nrow(x50) + nrow(x25) + nrow(x10) + nrow(x05)\n",
    "print(numbrows)"
   ]
  },
  {
   "cell_type": "code",
   "execution_count": 87,
   "metadata": {},
   "outputs": [
    {
     "data": {
      "text/html": [
       "<style>\n",
       ".list-inline {list-style: none; margin:0; padding: 0}\n",
       ".list-inline>li {display: inline-block}\n",
       ".list-inline>li:not(:last-child)::after {content: \"\\00b7\"; padding: 0 .5ex}\n",
       "</style>\n",
       "<ol class=list-inline><li>377561</li><li>7</li></ol>\n"
      ],
      "text/latex": [
       "\\begin{enumerate*}\n",
       "\\item 377561\n",
       "\\item 7\n",
       "\\end{enumerate*}\n"
      ],
      "text/markdown": [
       "1. 377561\n",
       "2. 7\n",
       "\n",
       "\n"
      ],
      "text/plain": [
       "[1] 377561      7"
      ]
     },
     "metadata": {},
     "output_type": "display_data"
    }
   ],
   "source": [
    "# rbind the split read files\n",
    "splitreads = rbind(x1, x75)\n",
    "splitreads = rbind(splitreads, x50)\n",
    "splitreads = rbind(splitreads, x25)\n",
    "splitreads = rbind(splitreads, x10)\n",
    "splitreads = rbind(splitreads, x05)\n",
    "dim(splitreads)"
   ]
  },
  {
   "cell_type": "code",
   "execution_count": 88,
   "metadata": {},
   "outputs": [],
   "source": [
    "write.csv(splitreads, \n",
    "         file = glue(\"{wkdir}ZIKA.SplitReads.csv\"),\n",
    "         row.names = FALSE)"
   ]
  },
  {
   "cell_type": "code",
   "execution_count": 89,
   "metadata": {},
   "outputs": [],
   "source": [
    "# feature count files\n",
    "f1 = glue('{wkdir}1.FeaturesOutput.csv')\n",
    "f75 = glue('{wkdir}0.75.FeaturesOutput.csv')\n",
    "f50 = glue('{wkdir}0.50.FeaturesOutput.csv')\n",
    "f25 = glue('{wkdir}0.25.FeaturesOutput.csv')\n",
    "f10 = glue('{wkdir}0.10.FeaturesOutput.csv')\n",
    "f05 = glue('{wkdir}0.05.FeaturesOutput.csv')\n",
    "\n",
    "feat1 = read.csv(file=f1,header=F,sep=\",\",na.strings = c('nan'))\n",
    "feat75 = read.csv(file=f75,header=F,sep=\",\",na.strings = c('nan'))\n",
    "feat50 = read.csv(file=f50,header=F,sep=\",\",na.strings = c('nan'))\n",
    "feat25 = read.csv(file=f25,header=F,sep=\",\",na.strings = c('nan'))\n",
    "feat10 = read.csv(file=f10,header=F,sep=\",\",na.strings = c('nan'))\n",
    "feat05 = read.csv(file=f05,header=F,sep=\",\",na.strings = c('nan'))"
   ]
  },
  {
   "cell_type": "code",
   "execution_count": 90,
   "metadata": {},
   "outputs": [
    {
     "data": {
      "text/html": [
       "<style>\n",
       ".list-inline {list-style: none; margin:0; padding: 0}\n",
       ".list-inline>li {display: inline-block}\n",
       ".list-inline>li:not(:last-child)::after {content: \"\\00b7\"; padding: 0 .5ex}\n",
       "</style>\n",
       "<ol class=list-inline><li>2</li><li>247</li></ol>\n"
      ],
      "text/latex": [
       "\\begin{enumerate*}\n",
       "\\item 2\n",
       "\\item 247\n",
       "\\end{enumerate*}\n"
      ],
      "text/markdown": [
       "1. 2\n",
       "2. 247\n",
       "\n",
       "\n"
      ],
      "text/plain": [
       "[1]   2 247"
      ]
     },
     "metadata": {},
     "output_type": "display_data"
    },
    {
     "data": {
      "text/html": [
       "<style>\n",
       ".list-inline {list-style: none; margin:0; padding: 0}\n",
       ".list-inline>li {display: inline-block}\n",
       ".list-inline>li:not(:last-child)::after {content: \"\\00b7\"; padding: 0 .5ex}\n",
       "</style>\n",
       "<ol class=list-inline><li>2</li><li>247</li></ol>\n"
      ],
      "text/latex": [
       "\\begin{enumerate*}\n",
       "\\item 2\n",
       "\\item 247\n",
       "\\end{enumerate*}\n"
      ],
      "text/markdown": [
       "1. 2\n",
       "2. 247\n",
       "\n",
       "\n"
      ],
      "text/plain": [
       "[1]   2 247"
      ]
     },
     "metadata": {},
     "output_type": "display_data"
    },
    {
     "data": {
      "text/html": [
       "<style>\n",
       ".list-inline {list-style: none; margin:0; padding: 0}\n",
       ".list-inline>li {display: inline-block}\n",
       ".list-inline>li:not(:last-child)::after {content: \"\\00b7\"; padding: 0 .5ex}\n",
       "</style>\n",
       "<ol class=list-inline><li>2</li><li>247</li></ol>\n"
      ],
      "text/latex": [
       "\\begin{enumerate*}\n",
       "\\item 2\n",
       "\\item 247\n",
       "\\end{enumerate*}\n"
      ],
      "text/markdown": [
       "1. 2\n",
       "2. 247\n",
       "\n",
       "\n"
      ],
      "text/plain": [
       "[1]   2 247"
      ]
     },
     "metadata": {},
     "output_type": "display_data"
    },
    {
     "data": {
      "text/html": [
       "<style>\n",
       ".list-inline {list-style: none; margin:0; padding: 0}\n",
       ".list-inline>li {display: inline-block}\n",
       ".list-inline>li:not(:last-child)::after {content: \"\\00b7\"; padding: 0 .5ex}\n",
       "</style>\n",
       "<ol class=list-inline><li>2</li><li>247</li></ol>\n"
      ],
      "text/latex": [
       "\\begin{enumerate*}\n",
       "\\item 2\n",
       "\\item 247\n",
       "\\end{enumerate*}\n"
      ],
      "text/markdown": [
       "1. 2\n",
       "2. 247\n",
       "\n",
       "\n"
      ],
      "text/plain": [
       "[1]   2 247"
      ]
     },
     "metadata": {},
     "output_type": "display_data"
    },
    {
     "data": {
      "text/html": [
       "<style>\n",
       ".list-inline {list-style: none; margin:0; padding: 0}\n",
       ".list-inline>li {display: inline-block}\n",
       ".list-inline>li:not(:last-child)::after {content: \"\\00b7\"; padding: 0 .5ex}\n",
       "</style>\n",
       "<ol class=list-inline><li>2</li><li>247</li></ol>\n"
      ],
      "text/latex": [
       "\\begin{enumerate*}\n",
       "\\item 2\n",
       "\\item 247\n",
       "\\end{enumerate*}\n"
      ],
      "text/markdown": [
       "1. 2\n",
       "2. 247\n",
       "\n",
       "\n"
      ],
      "text/plain": [
       "[1]   2 247"
      ]
     },
     "metadata": {},
     "output_type": "display_data"
    },
    {
     "data": {
      "text/html": [
       "<style>\n",
       ".list-inline {list-style: none; margin:0; padding: 0}\n",
       ".list-inline>li {display: inline-block}\n",
       ".list-inline>li:not(:last-child)::after {content: \"\\00b7\"; padding: 0 .5ex}\n",
       "</style>\n",
       "<ol class=list-inline><li>2</li><li>247</li></ol>\n"
      ],
      "text/latex": [
       "\\begin{enumerate*}\n",
       "\\item 2\n",
       "\\item 247\n",
       "\\end{enumerate*}\n"
      ],
      "text/markdown": [
       "1. 2\n",
       "2. 247\n",
       "\n",
       "\n"
      ],
      "text/plain": [
       "[1]   2 247"
      ]
     },
     "metadata": {},
     "output_type": "display_data"
    }
   ],
   "source": [
    "# rename columns of the feature files \n",
    "ft1 = FeatRename(feat1, \"1\")\n",
    "WriteFeatures(ft1, \"1\", glue(\"{wkdir}RenamedSubDVGFiles\"))\n",
    "dim(ft1)\n",
    "\n",
    "ft75 = FeatRename(feat75, \"0.75\")\n",
    "WriteFeatures(ft75, \"0.75\", glue(\"{wkdir}RenamedSubDVGFiles\"))\n",
    "dim(ft75)\n",
    "\n",
    "ft50 = FeatRename(feat50, \"0.50\")\n",
    "WriteFeatures(ft50, \"0.50\", glue(\"{wkdir}RenamedSubDVGFiles\"))\n",
    "dim(ft50)\n",
    "\n",
    "ft25 = FeatRename(feat25, \"0.25\")\n",
    "WriteFeatures(ft25, \"0.25\", glue(\"{wkdir}RenamedSubDVGFiles\"))\n",
    "dim(ft25)\n",
    "\n",
    "ft10 = FeatRename(feat10, \"0.10\")\n",
    "WriteFeatures(ft10, \"0.10\", glue(\"{wkdir}RenamedSubDVGFiles\"))\n",
    "dim(ft10)\n",
    "\n",
    "ft05 = FeatRename(feat05, \"0.05\")\n",
    "WriteFeatures(ft05, \"0.05\", glue(\"{wkdir}RenamedSubDVGFiles\"))\n",
    "dim(ft05)"
   ]
  },
  {
   "cell_type": "code",
   "execution_count": 91,
   "metadata": {},
   "outputs": [
    {
     "name": "stdout",
     "output_type": "stream",
     "text": [
      "[1] 1452\n"
     ]
    }
   ],
   "source": [
    "numbcols = 247 * 6 - (6*5)\n",
    "print(numbcols)"
   ]
  },
  {
   "cell_type": "code",
   "execution_count": 92,
   "metadata": {},
   "outputs": [
    {
     "name": "stderr",
     "output_type": "stream",
     "text": [
      "Warning message in merge.data.frame(featall, ft25, by = c(\"V1\", \"V2\", \"V3\", \"V4\", :\n",
      "“column names ‘V7.x’, ‘V8.x’, ‘V9.x’, ‘V10.x’, ‘V11.x’, ‘V12.x’, ‘V13.x’, ‘V14.x’, ‘V15.x’, ‘V16.x’, ‘V17.x’, ‘V18.x’, ‘V19.x’, ‘V20.x’, ‘V21.x’, ‘V22.x’, ‘V23.x’, ‘V24.x’, ‘V25.x’, ‘V26.x’, ‘V27.x’, ‘V28.x’, ‘V29.x’, ‘V30.x’, ‘V31.x’, ‘V32.x’, ‘V33.x’, ‘V34.x’, ‘V35.x’, ‘V36.x’, ‘V37.x’, ‘V38.x’, ‘V39.x’, ‘V40.x’, ‘V41.x’, ‘V42.x’, ‘V43.x’, ‘V44.x’, ‘V45.x’, ‘V46.x’, ‘V47.x’, ‘V48.x’, ‘V49.x’, ‘V50.x’, ‘V51.x’, ‘V52.x’, ‘V53.x’, ‘V54.x’, ‘V55.x’, ‘V56.x’, ‘V57.x’, ‘V58.x’, ‘V59.x’, ‘V60.x’, ‘V61.x’, ‘V62.x’, ‘V63.x’, ‘V64.x’, ‘V65.x’, ‘V66.x’, ‘V67.x’, ‘V68.x’, ‘V69.x’, ‘V70.x’, ‘V71.x’, ‘V72.x’, ‘V73.x’, ‘V74.x’, ‘V75.x’, ‘V76.x’, ‘V77.x’, ‘V78.x’, ‘V79.x’, ‘V80.x’, ‘V81.x’, ‘V82.x’, ‘V83.x’, ‘V84.x’, ‘V85.x’, ‘V86.x’, ‘V87.x’, ‘V88.x’, ‘V89.x’, ‘V90.x’, ‘V91.x’, ‘V92.x’, ‘V93.x’, ‘V94.x’, ‘V95.x’, ‘V96.x’, ‘V97.x’, ‘V98.x’, ‘V99.x’, ‘V100.x’, ‘V101.x’, ‘V102.x’, ‘V103.x’, ‘V104.x’, ‘V105.x’, ‘V106.x’, ‘V107.x’, ‘V108.x’, ‘V109.x’, ‘V110.x’, ‘V111.x’, ‘V112.x’, ‘V113.x’, ‘V114.x’, ‘V115.x’, ‘V116.x’, ‘V117.x’, ‘V118.x’, ‘V119.x’, ‘V120.x’, ‘V121.x’, ‘V122.x’, ‘V123.x’, ‘V124.x’, ‘V125.x’, ‘V126.x’, ‘V127.x’, ‘V128.x’, ‘V129.x’, ‘V130.x’, ‘V131.x’, ‘V132.x’, ‘V133.x’, ‘V134.x’, ‘V135.x’, ‘V136.x’, ‘V137.x’, ‘V138.x’, ‘V139.x’, ‘V140.x’, ‘V141.x’, ‘V142.x’, ‘V143.x’, ‘V144.x’, ‘V145.x’, ‘V146.x’, ‘V147.x’, ‘V148.x’, ‘V149.x’, ‘V150.x’, ‘V151.x’, ‘V152.x’, ‘V153.x’, ‘V154.x’, ‘V155.x’, ‘V156.x’, ‘V157.x’, ‘V158.x’, ‘V159.x’, ‘V160.x’, ‘V161.x’, ‘V162.x’, ‘V163.x’, ‘V164.x’, ‘V165.x’, ‘V166.x’, ‘V167.x’, ‘V168.x’, ‘V169.x’, ‘V170.x’, ‘V171.x’, ‘V172.x’, ‘V173.x’, ‘V174.x’, ‘V175.x’, ‘V176.x’, ‘V177.x’, ‘V178.x’, ‘V179.x’, ‘V180.x’, ‘V181.x’, ‘V182.x’, ‘V183.x’, ‘V184.x’, ‘V185.x’, ‘V186.x’, ‘V187.x’, ‘V188.x’, ‘V189.x’, ‘V190.x’, ‘V191.x’, ‘V192.x’, ‘V193.x’, ‘V194.x’, ‘V195.x’, ‘V196.x’, ‘V197.x’, ‘V198.x’, ‘V199.x’, ‘V200.x’, ‘V201.x’, ‘V202.x’, ‘V203.x’, ‘V204.x’, ‘V205.x’, ‘V206.x’, ‘V207.x’, ‘V208.x’, ‘V209.x’, ‘V210.x’, ‘V211.x’, ‘V212.x’, ‘V213.x’, ‘V214.x’, ‘V215.x’, ‘V216.x’, ‘V217.x’, ‘V218.x’, ‘V219.x’, ‘V220.x’, ‘V221.x’, ‘V222.x’, ‘V223.x’, ‘V224.x’, ‘V225.x’, ‘V226.x’, ‘V227.x’, ‘V228.x’, ‘V229.x’, ‘V230.x’, ‘V231.x’, ‘V232.x’, ‘V233.x’, ‘V234.x’, ‘V235.x’, ‘V236.x’, ‘V237.x’, ‘V238.x’, ‘V239.x’, ‘V240.x’, ‘V241.x’, ‘V242.x’, ‘V243.x’, ‘V244.x’, ‘V245.x’, ‘V246.x’, ‘V247.x’, ‘V7.y’, ‘V8.y’, ‘V9.y’, ‘V10.y’, ‘V11.y’, ‘V12.y’, ‘V13.y’, ‘V14.y’, ‘V15.y’, ‘V16.y’, ‘V17.y’, ‘V18.y’, ‘V19.y’, ‘V20.y’, ‘V21.y’, ‘V22.y’, ‘V23.y’, ‘V24.y’, ‘V25.y’, ‘V26.y’, ‘V27.y’, ‘V28.y’, ‘V29.y’, ‘V30.y’, ‘V31.y’, ‘V32.y’, ‘V33.y’, ‘V34.y’, ‘V35.y’, ‘V36.y’, ‘V37.y’, ‘V38.y’, ‘V39.y’, ‘V40.y’, ‘V41.y’, ‘V42.y’, ‘V43.y’, ‘V44.y’, ‘V45.y’, ‘V46.y’, ‘V47.y’, ‘V48.y’, ‘V49.y’, ‘V50.y’, ‘V51.y’, ‘V52.y’, ‘V53.y’, ‘V54.y’, ‘V55.y’, ‘V56.y’, ‘V57.y’, ‘V58.y’, ‘V59.y’, ‘V60.y’, ‘V61.y’, ‘V62.y’, ‘V63.y’, ‘V64.y’, ‘V65.y’, ‘V66.y’, ‘V67.y’, ‘V68.y’, ‘V69.y’, ‘V70.y’, ‘V71.y’, ‘V72.y’, ‘V73.y’, ‘V74.y’, ‘V75.y’, ‘V76.y’, ‘V77.y’, ‘V78.y’, ‘V79.y’, ‘V80.y’, ‘V81.y’, ‘V82.y’, ‘V83.y’, ‘V84.y’, ‘V85.y’, ‘V86.y’, ‘V87.y’, ‘V88.y’, ‘V89.y’, ‘V90.y’, ‘V91.y’, ‘V92.y’, ‘V93.y’, ‘V94.y’, ‘V95.y’, ‘V96.y’, ‘V97.y’, ‘V98.y’, ‘V99.y’, ‘V100.y’, ‘V101.y’, ‘V102.y’, ‘V103.y’, ‘V104.y’, ‘V105.y’, ‘V106.y’, ‘V107.y’, ‘V108.y’, ‘V109.y’, ‘V110.y’, ‘V111.y’, ‘V112.y’, ‘V113.y’, ‘V114.y’, ‘V115.y’, ‘V116.y’, ‘V117.y’, ‘V118.y’, ‘V119.y’, ‘V120.y’, ‘V121.y’, ‘V122.y’, ‘V123.y’, ‘V124.y’, ‘V125.y’, ‘V126.y’, ‘V127.y’, ‘V128.y’, ‘V129.y’, ‘V130.y’, ‘V131.y’, ‘V132.y’, ‘V133.y’, ‘V134.y’, ‘V135.y’, ‘V136.y’, ‘V137.y’, ‘V138.y’, ‘V139.y’, ‘V140.y’, ‘V141.y’, ‘V142.y’, ‘V143.y’, ‘V144.y’, ‘V145.y’, ‘V146.y’, ‘V147.y’, ‘V148.y’, ‘V149.y’, ‘V150.y’, ‘V151.y’, ‘V152.y’, ‘V153.y’, ‘V154.y’, ‘V155.y’, ‘V156.y’, ‘V157.y’, ‘V158.y’, ‘V159.y’, ‘V160.y’, ‘V161.y’, ‘V162.y’, ‘V163.y’, ‘V164.y’, ‘V165.y’, ‘V166.y’, ‘V167.y’, ‘V168.y’, ‘V169.y’, ‘V170.y’, ‘V171.y’, ‘V172.y’, ‘V173.y’, ‘V174.y’, ‘V175.y’, ‘V176.y’, ‘V177.y’, ‘V178.y’, ‘V179.y’, ‘V180.y’, ‘V181.y’, ‘V182.y’, ‘V183.y’, ‘V184.y’, ‘V185.y’, ‘V186.y’, ‘V187.y’, ‘V188.y’, ‘V189.y’, ‘V190.y’, ‘V191.y’, ‘V192.y’, ‘V193.y’, ‘V194.y’, ‘V195.y’, ‘V196.y’, ‘V197.y’, ‘V198.y’, ‘V199.y’, ‘V200.y’, ‘V201.y’, ‘V202.y’, ‘V203.y’, ‘V204.y’, ‘V205.y’, ‘V206.y’, ‘V207.y’, ‘V208.y’, ‘V209.y’, ‘V210.y’, ‘V211.y’, ‘V212.y’, ‘V213.y’, ‘V214.y’, ‘V215.y’, ‘V216.y’, ‘V217.y’, ‘V218.y’, ‘V219.y’, ‘V220.y’, ‘V221.y’, ‘V222.y’, ‘V223.y’, ‘V224.y’, ‘V225.y’, ‘V226.y’, ‘V227.y’, ‘V228.y’, ‘V229.y’, ‘V230.y’, ‘V231.y’, ‘V232.y’, ‘V233.y’, ‘V234.y’, ‘V235.y’, ‘V236.y’, ‘V237.y’, ‘V238.y’, ‘V239.y’, ‘V240.y’, ‘V241.y’, ‘V242.y’, ‘V243.y’, ‘V244.y’, ‘V245.y’, ‘V246.y’, ‘V247.y’ are duplicated in the result”\n",
      "Warning message in merge.data.frame(featall, ft10, by = c(\"V1\", \"V2\", \"V3\", \"V4\", :\n",
      "“column names ‘V7.x’, ‘V8.x’, ‘V9.x’, ‘V10.x’, ‘V11.x’, ‘V12.x’, ‘V13.x’, ‘V14.x’, ‘V15.x’, ‘V16.x’, ‘V17.x’, ‘V18.x’, ‘V19.x’, ‘V20.x’, ‘V21.x’, ‘V22.x’, ‘V23.x’, ‘V24.x’, ‘V25.x’, ‘V26.x’, ‘V27.x’, ‘V28.x’, ‘V29.x’, ‘V30.x’, ‘V31.x’, ‘V32.x’, ‘V33.x’, ‘V34.x’, ‘V35.x’, ‘V36.x’, ‘V37.x’, ‘V38.x’, ‘V39.x’, ‘V40.x’, ‘V41.x’, ‘V42.x’, ‘V43.x’, ‘V44.x’, ‘V45.x’, ‘V46.x’, ‘V47.x’, ‘V48.x’, ‘V49.x’, ‘V50.x’, ‘V51.x’, ‘V52.x’, ‘V53.x’, ‘V54.x’, ‘V55.x’, ‘V56.x’, ‘V57.x’, ‘V58.x’, ‘V59.x’, ‘V60.x’, ‘V61.x’, ‘V62.x’, ‘V63.x’, ‘V64.x’, ‘V65.x’, ‘V66.x’, ‘V67.x’, ‘V68.x’, ‘V69.x’, ‘V70.x’, ‘V71.x’, ‘V72.x’, ‘V73.x’, ‘V74.x’, ‘V75.x’, ‘V76.x’, ‘V77.x’, ‘V78.x’, ‘V79.x’, ‘V80.x’, ‘V81.x’, ‘V82.x’, ‘V83.x’, ‘V84.x’, ‘V85.x’, ‘V86.x’, ‘V87.x’, ‘V88.x’, ‘V89.x’, ‘V90.x’, ‘V91.x’, ‘V92.x’, ‘V93.x’, ‘V94.x’, ‘V95.x’, ‘V96.x’, ‘V97.x’, ‘V98.x’, ‘V99.x’, ‘V100.x’, ‘V101.x’, ‘V102.x’, ‘V103.x’, ‘V104.x’, ‘V105.x’, ‘V106.x’, ‘V107.x’, ‘V108.x’, ‘V109.x’, ‘V110.x’, ‘V111.x’, ‘V112.x’, ‘V113.x’, ‘V114.x’, ‘V115.x’, ‘V116.x’, ‘V117.x’, ‘V118.x’, ‘V119.x’, ‘V120.x’, ‘V121.x’, ‘V122.x’, ‘V123.x’, ‘V124.x’, ‘V125.x’, ‘V126.x’, ‘V127.x’, ‘V128.x’, ‘V129.x’, ‘V130.x’, ‘V131.x’, ‘V132.x’, ‘V133.x’, ‘V134.x’, ‘V135.x’, ‘V136.x’, ‘V137.x’, ‘V138.x’, ‘V139.x’, ‘V140.x’, ‘V141.x’, ‘V142.x’, ‘V143.x’, ‘V144.x’, ‘V145.x’, ‘V146.x’, ‘V147.x’, ‘V148.x’, ‘V149.x’, ‘V150.x’, ‘V151.x’, ‘V152.x’, ‘V153.x’, ‘V154.x’, ‘V155.x’, ‘V156.x’, ‘V157.x’, ‘V158.x’, ‘V159.x’, ‘V160.x’, ‘V161.x’, ‘V162.x’, ‘V163.x’, ‘V164.x’, ‘V165.x’, ‘V166.x’, ‘V167.x’, ‘V168.x’, ‘V169.x’, ‘V170.x’, ‘V171.x’, ‘V172.x’, ‘V173.x’, ‘V174.x’, ‘V175.x’, ‘V176.x’, ‘V177.x’, ‘V178.x’, ‘V179.x’, ‘V180.x’, ‘V181.x’, ‘V182.x’, ‘V183.x’, ‘V184.x’, ‘V185.x’, ‘V186.x’, ‘V187.x’, ‘V188.x’, ‘V189.x’, ‘V190.x’, ‘V191.x’, ‘V192.x’, ‘V193.x’, ‘V194.x’, ‘V195.x’, ‘V196.x’, ‘V197.x’, ‘V198.x’, ‘V199.x’, ‘V200.x’, ‘V201.x’, ‘V202.x’, ‘V203.x’, ‘V204.x’, ‘V205.x’, ‘V206.x’, ‘V207.x’, ‘V208.x’, ‘V209.x’, ‘V210.x’, ‘V211.x’, ‘V212.x’, ‘V213.x’, ‘V214.x’, ‘V215.x’, ‘V216.x’, ‘V217.x’, ‘V218.x’, ‘V219.x’, ‘V220.x’, ‘V221.x’, ‘V222.x’, ‘V223.x’, ‘V224.x’, ‘V225.x’, ‘V226.x’, ‘V227.x’, ‘V228.x’, ‘V229.x’, ‘V230.x’, ‘V231.x’, ‘V232.x’, ‘V233.x’, ‘V234.x’, ‘V235.x’, ‘V236.x’, ‘V237.x’, ‘V238.x’, ‘V239.x’, ‘V240.x’, ‘V241.x’, ‘V242.x’, ‘V243.x’, ‘V244.x’, ‘V245.x’, ‘V246.x’, ‘V247.x’, ‘V7.y’, ‘V8.y’, ‘V9.y’, ‘V10.y’, ‘V11.y’, ‘V12.y’, ‘V13.y’, ‘V14.y’, ‘V15.y’, ‘V16.y’, ‘V17.y’, ‘V18.y’, ‘V19.y’, ‘V20.y’, ‘V21.y’, ‘V22.y’, ‘V23.y’, ‘V24.y’, ‘V25.y’, ‘V26.y’, ‘V27.y’, ‘V28.y’, ‘V29.y’, ‘V30.y’, ‘V31.y’, ‘V32.y’, ‘V33.y’, ‘V34.y’, ‘V35.y’, ‘V36.y’, ‘V37.y’, ‘V38.y’, ‘V39.y’, ‘V40.y’, ‘V41.y’, ‘V42.y’, ‘V43.y’, ‘V44.y’, ‘V45.y’, ‘V46.y’, ‘V47.y’, ‘V48.y’, ‘V49.y’, ‘V50.y’, ‘V51.y’, ‘V52.y’, ‘V53.y’, ‘V54.y’, ‘V55.y’, ‘V56.y’, ‘V57.y’, ‘V58.y’, ‘V59.y’, ‘V60.y’, ‘V61.y’, ‘V62.y’, ‘V63.y’, ‘V64.y’, ‘V65.y’, ‘V66.y’, ‘V67.y’, ‘V68.y’, ‘V69.y’, ‘V70.y’, ‘V71.y’, ‘V72.y’, ‘V73.y’, ‘V74.y’, ‘V75.y’, ‘V76.y’, ‘V77.y’, ‘V78.y’, ‘V79.y’, ‘V80.y’, ‘V81.y’, ‘V82.y’, ‘V83.y’, ‘V84.y’, ‘V85.y’, ‘V86.y’, ‘V87.y’, ‘V88.y’, ‘V89.y’, ‘V90.y’, ‘V91.y’, ‘V92.y’, ‘V93.y’, ‘V94.y’, ‘V95.y’, ‘V96.y’, ‘V97.y’, ‘V98.y’, ‘V99.y’, ‘V100.y’, ‘V101.y’, ‘V102.y’, ‘V103.y’, ‘V104.y’, ‘V105.y’, ‘V106.y’, ‘V107.y’, ‘V108.y’, ‘V109.y’, ‘V110.y’, ‘V111.y’, ‘V112.y’, ‘V113.y’, ‘V114.y’, ‘V115.y’, ‘V116.y’, ‘V117.y’, ‘V118.y’, ‘V119.y’, ‘V120.y’, ‘V121.y’, ‘V122.y’, ‘V123.y’, ‘V124.y’, ‘V125.y’, ‘V126.y’, ‘V127.y’, ‘V128.y’, ‘V129.y’, ‘V130.y’, ‘V131.y’, ‘V132.y’, ‘V133.y’, ‘V134.y’, ‘V135.y’, ‘V136.y’, ‘V137.y’, ‘V138.y’, ‘V139.y’, ‘V140.y’, ‘V141.y’, ‘V142.y’, ‘V143.y’, ‘V144.y’, ‘V145.y’, ‘V146.y’, ‘V147.y’, ‘V148.y’, ‘V149.y’, ‘V150.y’, ‘V151.y’, ‘V152.y’, ‘V153.y’, ‘V154.y’, ‘V155.y’, ‘V156.y’, ‘V157.y’, ‘V158.y’, ‘V159.y’, ‘V160.y’, ‘V161.y’, ‘V162.y’, ‘V163.y’, ‘V164.y’, ‘V165.y’, ‘V166.y’, ‘V167.y’, ‘V168.y’, ‘V169.y’, ‘V170.y’, ‘V171.y’, ‘V172.y’, ‘V173.y’, ‘V174.y’, ‘V175.y’, ‘V176.y’, ‘V177.y’, ‘V178.y’, ‘V179.y’, ‘V180.y’, ‘V181.y’, ‘V182.y’, ‘V183.y’, ‘V184.y’, ‘V185.y’, ‘V186.y’, ‘V187.y’, ‘V188.y’, ‘V189.y’, ‘V190.y’, ‘V191.y’, ‘V192.y’, ‘V193.y’, ‘V194.y’, ‘V195.y’, ‘V196.y’, ‘V197.y’, ‘V198.y’, ‘V199.y’, ‘V200.y’, ‘V201.y’, ‘V202.y’, ‘V203.y’, ‘V204.y’, ‘V205.y’, ‘V206.y’, ‘V207.y’, ‘V208.y’, ‘V209.y’, ‘V210.y’, ‘V211.y’, ‘V212.y’, ‘V213.y’, ‘V214.y’, ‘V215.y’, ‘V216.y’, ‘V217.y’, ‘V218.y’, ‘V219.y’, ‘V220.y’, ‘V221.y’, ‘V222.y’, ‘V223.y’, ‘V224.y’, ‘V225.y’, ‘V226.y’, ‘V227.y’, ‘V228.y’, ‘V229.y’, ‘V230.y’, ‘V231.y’, ‘V232.y’, ‘V233.y’, ‘V234.y’, ‘V235.y’, ‘V236.y’, ‘V237.y’, ‘V238.y’, ‘V239.y’, ‘V240.y’, ‘V241.y’, ‘V242.y’, ‘V243.y’, ‘V244.y’, ‘V245.y’, ‘V246.y’, ‘V247.y’ are duplicated in the result”\n"
     ]
    },
    {
     "name": "stderr",
     "output_type": "stream",
     "text": [
      "Warning message in merge.data.frame(featall, ft05, by = c(\"V1\", \"V2\", \"V3\", \"V4\", :\n",
      "“column names ‘V7.x’, ‘V8.x’, ‘V9.x’, ‘V10.x’, ‘V11.x’, ‘V12.x’, ‘V13.x’, ‘V14.x’, ‘V15.x’, ‘V16.x’, ‘V17.x’, ‘V18.x’, ‘V19.x’, ‘V20.x’, ‘V21.x’, ‘V22.x’, ‘V23.x’, ‘V24.x’, ‘V25.x’, ‘V26.x’, ‘V27.x’, ‘V28.x’, ‘V29.x’, ‘V30.x’, ‘V31.x’, ‘V32.x’, ‘V33.x’, ‘V34.x’, ‘V35.x’, ‘V36.x’, ‘V37.x’, ‘V38.x’, ‘V39.x’, ‘V40.x’, ‘V41.x’, ‘V42.x’, ‘V43.x’, ‘V44.x’, ‘V45.x’, ‘V46.x’, ‘V47.x’, ‘V48.x’, ‘V49.x’, ‘V50.x’, ‘V51.x’, ‘V52.x’, ‘V53.x’, ‘V54.x’, ‘V55.x’, ‘V56.x’, ‘V57.x’, ‘V58.x’, ‘V59.x’, ‘V60.x’, ‘V61.x’, ‘V62.x’, ‘V63.x’, ‘V64.x’, ‘V65.x’, ‘V66.x’, ‘V67.x’, ‘V68.x’, ‘V69.x’, ‘V70.x’, ‘V71.x’, ‘V72.x’, ‘V73.x’, ‘V74.x’, ‘V75.x’, ‘V76.x’, ‘V77.x’, ‘V78.x’, ‘V79.x’, ‘V80.x’, ‘V81.x’, ‘V82.x’, ‘V83.x’, ‘V84.x’, ‘V85.x’, ‘V86.x’, ‘V87.x’, ‘V88.x’, ‘V89.x’, ‘V90.x’, ‘V91.x’, ‘V92.x’, ‘V93.x’, ‘V94.x’, ‘V95.x’, ‘V96.x’, ‘V97.x’, ‘V98.x’, ‘V99.x’, ‘V100.x’, ‘V101.x’, ‘V102.x’, ‘V103.x’, ‘V104.x’, ‘V105.x’, ‘V106.x’, ‘V107.x’, ‘V108.x’, ‘V109.x’, ‘V110.x’, ‘V111.x’, ‘V112.x’, ‘V113.x’, ‘V114.x’, ‘V115.x’, ‘V116.x’, ‘V117.x’, ‘V118.x’, ‘V119.x’, ‘V120.x’, ‘V121.x’, ‘V122.x’, ‘V123.x’, ‘V124.x’, ‘V125.x’, ‘V126.x’, ‘V127.x’, ‘V128.x’, ‘V129.x’, ‘V130.x’, ‘V131.x’, ‘V132.x’, ‘V133.x’, ‘V134.x’, ‘V135.x’, ‘V136.x’, ‘V137.x’, ‘V138.x’, ‘V139.x’, ‘V140.x’, ‘V141.x’, ‘V142.x’, ‘V143.x’, ‘V144.x’, ‘V145.x’, ‘V146.x’, ‘V147.x’, ‘V148.x’, ‘V149.x’, ‘V150.x’, ‘V151.x’, ‘V152.x’, ‘V153.x’, ‘V154.x’, ‘V155.x’, ‘V156.x’, ‘V157.x’, ‘V158.x’, ‘V159.x’, ‘V160.x’, ‘V161.x’, ‘V162.x’, ‘V163.x’, ‘V164.x’, ‘V165.x’, ‘V166.x’, ‘V167.x’, ‘V168.x’, ‘V169.x’, ‘V170.x’, ‘V171.x’, ‘V172.x’, ‘V173.x’, ‘V174.x’, ‘V175.x’, ‘V176.x’, ‘V177.x’, ‘V178.x’, ‘V179.x’, ‘V180.x’, ‘V181.x’, ‘V182.x’, ‘V183.x’, ‘V184.x’, ‘V185.x’, ‘V186.x’, ‘V187.x’, ‘V188.x’, ‘V189.x’, ‘V190.x’, ‘V191.x’, ‘V192.x’, ‘V193.x’, ‘V194.x’, ‘V195.x’, ‘V196.x’, ‘V197.x’, ‘V198.x’, ‘V199.x’, ‘V200.x’, ‘V201.x’, ‘V202.x’, ‘V203.x’, ‘V204.x’, ‘V205.x’, ‘V206.x’, ‘V207.x’, ‘V208.x’, ‘V209.x’, ‘V210.x’, ‘V211.x’, ‘V212.x’, ‘V213.x’, ‘V214.x’, ‘V215.x’, ‘V216.x’, ‘V217.x’, ‘V218.x’, ‘V219.x’, ‘V220.x’, ‘V221.x’, ‘V222.x’, ‘V223.x’, ‘V224.x’, ‘V225.x’, ‘V226.x’, ‘V227.x’, ‘V228.x’, ‘V229.x’, ‘V230.x’, ‘V231.x’, ‘V232.x’, ‘V233.x’, ‘V234.x’, ‘V235.x’, ‘V236.x’, ‘V237.x’, ‘V238.x’, ‘V239.x’, ‘V240.x’, ‘V241.x’, ‘V242.x’, ‘V243.x’, ‘V244.x’, ‘V245.x’, ‘V246.x’, ‘V247.x’, ‘V7.y’, ‘V8.y’, ‘V9.y’, ‘V10.y’, ‘V11.y’, ‘V12.y’, ‘V13.y’, ‘V14.y’, ‘V15.y’, ‘V16.y’, ‘V17.y’, ‘V18.y’, ‘V19.y’, ‘V20.y’, ‘V21.y’, ‘V22.y’, ‘V23.y’, ‘V24.y’, ‘V25.y’, ‘V26.y’, ‘V27.y’, ‘V28.y’, ‘V29.y’, ‘V30.y’, ‘V31.y’, ‘V32.y’, ‘V33.y’, ‘V34.y’, ‘V35.y’, ‘V36.y’, ‘V37.y’, ‘V38.y’, ‘V39.y’, ‘V40.y’, ‘V41.y’, ‘V42.y’, ‘V43.y’, ‘V44.y’, ‘V45.y’, ‘V46.y’, ‘V47.y’, ‘V48.y’, ‘V49.y’, ‘V50.y’, ‘V51.y’, ‘V52.y’, ‘V53.y’, ‘V54.y’, ‘V55.y’, ‘V56.y’, ‘V57.y’, ‘V58.y’, ‘V59.y’, ‘V60.y’, ‘V61.y’, ‘V62.y’, ‘V63.y’, ‘V64.y’, ‘V65.y’, ‘V66.y’, ‘V67.y’, ‘V68.y’, ‘V69.y’, ‘V70.y’, ‘V71.y’, ‘V72.y’, ‘V73.y’, ‘V74.y’, ‘V75.y’, ‘V76.y’, ‘V77.y’, ‘V78.y’, ‘V79.y’, ‘V80.y’, ‘V81.y’, ‘V82.y’, ‘V83.y’, ‘V84.y’, ‘V85.y’, ‘V86.y’, ‘V87.y’, ‘V88.y’, ‘V89.y’, ‘V90.y’, ‘V91.y’, ‘V92.y’, ‘V93.y’, ‘V94.y’, ‘V95.y’, ‘V96.y’, ‘V97.y’, ‘V98.y’, ‘V99.y’, ‘V100.y’, ‘V101.y’, ‘V102.y’, ‘V103.y’, ‘V104.y’, ‘V105.y’, ‘V106.y’, ‘V107.y’, ‘V108.y’, ‘V109.y’, ‘V110.y’, ‘V111.y’, ‘V112.y’, ‘V113.y’, ‘V114.y’, ‘V115.y’, ‘V116.y’, ‘V117.y’, ‘V118.y’, ‘V119.y’, ‘V120.y’, ‘V121.y’, ‘V122.y’, ‘V123.y’, ‘V124.y’, ‘V125.y’, ‘V126.y’, ‘V127.y’, ‘V128.y’, ‘V129.y’, ‘V130.y’, ‘V131.y’, ‘V132.y’, ‘V133.y’, ‘V134.y’, ‘V135.y’, ‘V136.y’, ‘V137.y’, ‘V138.y’, ‘V139.y’, ‘V140.y’, ‘V141.y’, ‘V142.y’, ‘V143.y’, ‘V144.y’, ‘V145.y’, ‘V146.y’, ‘V147.y’, ‘V148.y’, ‘V149.y’, ‘V150.y’, ‘V151.y’, ‘V152.y’, ‘V153.y’, ‘V154.y’, ‘V155.y’, ‘V156.y’, ‘V157.y’, ‘V158.y’, ‘V159.y’, ‘V160.y’, ‘V161.y’, ‘V162.y’, ‘V163.y’, ‘V164.y’, ‘V165.y’, ‘V166.y’, ‘V167.y’, ‘V168.y’, ‘V169.y’, ‘V170.y’, ‘V171.y’, ‘V172.y’, ‘V173.y’, ‘V174.y’, ‘V175.y’, ‘V176.y’, ‘V177.y’, ‘V178.y’, ‘V179.y’, ‘V180.y’, ‘V181.y’, ‘V182.y’, ‘V183.y’, ‘V184.y’, ‘V185.y’, ‘V186.y’, ‘V187.y’, ‘V188.y’, ‘V189.y’, ‘V190.y’, ‘V191.y’, ‘V192.y’, ‘V193.y’, ‘V194.y’, ‘V195.y’, ‘V196.y’, ‘V197.y’, ‘V198.y’, ‘V199.y’, ‘V200.y’, ‘V201.y’, ‘V202.y’, ‘V203.y’, ‘V204.y’, ‘V205.y’, ‘V206.y’, ‘V207.y’, ‘V208.y’, ‘V209.y’, ‘V210.y’, ‘V211.y’, ‘V212.y’, ‘V213.y’, ‘V214.y’, ‘V215.y’, ‘V216.y’, ‘V217.y’, ‘V218.y’, ‘V219.y’, ‘V220.y’, ‘V221.y’, ‘V222.y’, ‘V223.y’, ‘V224.y’, ‘V225.y’, ‘V226.y’, ‘V227.y’, ‘V228.y’, ‘V229.y’, ‘V230.y’, ‘V231.y’, ‘V232.y’, ‘V233.y’, ‘V234.y’, ‘V235.y’, ‘V236.y’, ‘V237.y’, ‘V238.y’, ‘V239.y’, ‘V240.y’, ‘V241.y’, ‘V242.y’, ‘V243.y’, ‘V244.y’, ‘V245.y’, ‘V246.y’, ‘V247.y’, ‘V7.x’, ‘V8.x’, ‘V9.x’, ‘V10.x’, ‘V11.x’, ‘V12.x’, ‘V13.x’, ‘V14.x’, ‘V15.x’, ‘V16.x’, ‘V17.x’, ‘V18.x’, ‘V19.x’, ‘V20.x’, ‘V21.x’, ‘V22.x’, ‘V23.x’, ‘V24.x’, ‘V25.x’, ‘V26.x’, ‘V27.x’, ‘V28.x’, ‘V29.x’, ‘V30.x’, ‘V31.x’, ‘V32.x’, ‘V33.x’, ‘V34.x’, ‘V35.x’, ‘V36.x’, ‘V37.x’, ‘V38.x’, ‘V39.x’, ‘V40.x’, ‘V41.x’, ‘V42.x’, ‘V43.x’, ‘V44.x’, ‘V45.x’, ‘V46.x’, ‘V47.x’, ‘V48.x’, ‘V49.x’, ‘V50.x’, ‘V51.x’, ‘V52.x’, ‘V53.x’, ‘V54.x’, ‘V55.x’, ‘V56.x’, ‘V57.x’, ‘V58.x’, ‘V59.x’, ‘V60.x’, ‘V61.x’, ‘V62.x’, ‘V63.x’, ‘V64.x’, ‘V65.x’, ‘V66.x’, ‘V67.x’, ‘V68.x’, ‘V69.x’, ‘V70.x’, ‘V71.x’, ‘V72.x’, ‘V73.x’, ‘V74.x’, ‘V75.x’, ‘V76.x’, ‘V77.x’, ‘V78.x’, ‘V79.x’, ‘V80.x’, ‘V81.x’, ‘V82.x’, ‘V83.x’, ‘V84.x’, ‘V85.x’, ‘V86.x’, ‘V87.x’, ‘V88.x’, ‘V89.x’, ‘V90.x’, ‘V91.x’, ‘V92.x’, ‘V93.x’, ‘V94.x’, ‘V95.x’, ‘V96.x’, ‘V97.x’, ‘V98.x’, ‘V99.x’, ‘V100.x’, ‘V101.x’, ‘V102.x’, ‘V103.x’, ‘V104.x’, ‘V105.x’, ‘V106.x’, ‘V107.x’, ‘V108.x’, ‘V109.x’, ‘V110.x’, ‘V111.x’, ‘V112.x’, ‘V113.x’, ‘V114.x’, ‘V115.x’, ‘V116.x’, ‘V117.x’, ‘V118.x’, ‘V119.x’, ‘V120.x’, ‘V121.x’, ‘V122.x’, ‘V123.x’, ‘V124.x’, ‘V125.x’, ‘V126.x’, ‘V127.x’, ‘V128.x’, ‘V129.x”\n"
     ]
    },
    {
     "data": {
      "text/html": [
       "<style>\n",
       ".list-inline {list-style: none; margin:0; padding: 0}\n",
       ".list-inline>li {display: inline-block}\n",
       ".list-inline>li:not(:last-child)::after {content: \"\\00b7\"; padding: 0 .5ex}\n",
       "</style>\n",
       "<ol class=list-inline><li>2</li><li>1452</li></ol>\n"
      ],
      "text/latex": [
       "\\begin{enumerate*}\n",
       "\\item 2\n",
       "\\item 1452\n",
       "\\end{enumerate*}\n"
      ],
      "text/markdown": [
       "1. 2\n",
       "2. 1452\n",
       "\n",
       "\n"
      ],
      "text/plain": [
       "[1]    2 1452"
      ]
     },
     "metadata": {},
     "output_type": "display_data"
    }
   ],
   "source": [
    "# merge feature files \n",
    "featall = merge(ft1, ft75, by=c('V1','V2','V3','V4','V5','V6'), all = TRUE)\n",
    "featall = merge(featall, ft50, by=c('V1','V2','V3','V4','V5','V6'), all = TRUE)\n",
    "featall = merge(featall, ft25, by=c('V1','V2','V3','V4','V5','V6'), all = TRUE)\n",
    "featall = merge(featall, ft10, by=c('V1','V2','V3','V4','V5','V6'), all = TRUE)\n",
    "featall = merge(featall, ft05, by=c('V1','V2','V3','V4','V5','V6'), all = TRUE)\n",
    "dim(featall)"
   ]
  },
  {
   "cell_type": "code",
   "execution_count": 93,
   "metadata": {},
   "outputs": [],
   "source": [
    "write.table(featall, \n",
    "         file = glue(\"{wkdir}ZIKA.FeaturesOutput.csv\"), \n",
    "         row.names = FALSE,\n",
    "         col.names = FALSE,\n",
    "           sep = ',')"
   ]
  },
  {
   "cell_type": "markdown",
   "metadata": {},
   "source": [
    "The two outputs can now be put through the DVG script FindDI_star_15.py\n",
    "\n",
    "python3 FindDI_star_15.py --strain ZIKA --bam_path ../PCR_SubSortedBam/ --ref ../../reference/zika/MR766.ZIKA.CDS.fas --file ../../SubVariants/SubDVG_PCR/AllSub/ZIKA.SplitReads.csv --idx ../../SubVariants/SubDVG_PCR/AllSub/ZIKA.FeaturesOutput.csv --save_dir ../../SubVariants/SubDVG_PCR/AllSub --align_length 25 --total_mismatch  1\n",
    "\n",
    "\n"
   ]
  }
 ],
 "metadata": {
  "kernelspec": {
   "display_name": "R",
   "language": "R",
   "name": "ir"
  },
  "language_info": {
   "codemirror_mode": "r",
   "file_extension": ".r",
   "mimetype": "text/x-r-source",
   "name": "R",
   "pygments_lexer": "r",
   "version": "4.0.2"
  }
 },
 "nbformat": 4,
 "nbformat_minor": 4
}
